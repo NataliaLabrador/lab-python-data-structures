{
 "cells": [
  {
   "cell_type": "markdown",
   "metadata": {
    "tags": []
   },
   "source": [
    "# Lab | Data Structures "
   ]
  },
  {
   "cell_type": "markdown",
   "metadata": {},
   "source": [
    "## Exercise: Managing Customer Orders\n",
    "\n",
    "As part of a business venture, you are starting an online store that sells various products. To ensure smooth operations, you need to develop a program that manages customer orders and inventory.\n",
    "\n",
    "Follow the steps below to complete the exercise:\n",
    "\n",
    "1. Define a list called `products` that contains the following items: \"t-shirt\", \"mug\", \"hat\", \"book\", \"keychain\".\n",
    "\n",
    "2. Create an empty dictionary called `inventory`.\n",
    "\n",
    "3. Ask the user to input the quantity of each product available in the inventory. Use the product names from the `products` list as keys in the `inventory` dictionary and assign the respective quantities as values.\n",
    "\n",
    "4. Create an empty set called `customer_orders`.\n",
    "\n",
    "5. Ask the user to input the name of three products that a customer wants to order (from those in the products list, meaning three products out of \"t-shirt\", \"mug\", \"hat\", \"book\" or \"keychain\". Add each product name to the `customer_orders` set.\n",
    "\n",
    "6. Print the products in the `customer_orders` set.\n",
    "\n",
    "7. Calculate the following order statistics:\n",
    "   - Total Products Ordered: The total number of products in the `customer_orders` set.\n",
    "   - Percentage of Products Ordered: The percentage of products ordered compared to the total available products.\n",
    "   \n",
    "   Store these statistics in a tuple called `order_status`.\n",
    "\n",
    "8. Print the order statistics using the following format:\n",
    "   ```\n",
    "   Order Statistics:\n",
    "   Total Products Ordered: <total_products_ordered>\n",
    "   Percentage of Products Ordered: <percentage_ordered>% \n",
    "   ```\n",
    "\n",
    "9. Update the inventory by subtracting 1 from the quantity of each product. Modify the `inventory` dictionary accordingly.\n",
    "\n",
    "10. Print the updated inventory, displaying the quantity of each product on separate lines.\n",
    "\n",
    "Solve the exercise by implementing the steps using the Python concepts of lists, dictionaries, sets, and basic input/output operations. "
   ]
  },
  {
   "cell_type": "code",
   "execution_count": 1,
   "metadata": {},
   "outputs": [],
   "source": [
    "# Create a list containing the products\n",
    "products = [\"t-shirt\", \"mug\", \"hat\", \"book\", \"keychain\"]"
   ]
  },
  {
   "cell_type": "code",
   "execution_count": 2,
   "metadata": {},
   "outputs": [],
   "source": [
    "# Create an empty dictionary\n",
    "inventory = {}"
   ]
  },
  {
   "cell_type": "code",
   "execution_count": 3,
   "metadata": {},
   "outputs": [
    {
     "name": "stdout",
     "output_type": "stream",
     "text": [
      "Enter the number of t-shirts available: 5\n",
      "Enter the number of mugs available: 10\n",
      "Enter the number of hats available: 8\n",
      "Enter the number of books available: 12\n",
      "Enter the number of keychains available: 6\n"
     ]
    }
   ],
   "source": [
    "# Ask the user to input the quantity of each product\n",
    "number_of_tshirts = int(input(\"Enter the number of t-shirts available: \"))\n",
    "number_of_mugs = int(input(\"Enter the number of mugs available: \"))\n",
    "number_of_hats = int(input(\"Enter the number of hats available: \"))\n",
    "number_of_books = int(input(\"Enter the number of books available: \"))\n",
    "number_of_keychains = int(input(\"Enter the number of keychains available: \"))"
   ]
  },
  {
   "cell_type": "code",
   "execution_count": 4,
   "metadata": {},
   "outputs": [
    {
     "name": "stdout",
     "output_type": "stream",
     "text": [
      "{'t-shirt': 5, 'mug': 10, 'hat': 8, 'book': 12, 'keychain': 6}\n"
     ]
    }
   ],
   "source": [
    "# Upload the dictionary\n",
    "inventory = {\n",
    "    't-shirt': number_of_tshirts, 'mug': number_of_mugs, 'hat': number_of_hats, 'book': number_of_books, 'keychain': number_of_keychains\n",
    "}\n",
    "print (inventory)"
   ]
  },
  {
   "cell_type": "code",
   "execution_count": 5,
   "metadata": {},
   "outputs": [],
   "source": [
    "# Create an empty set\n",
    "customer_orders = set()"
   ]
  },
  {
   "cell_type": "code",
   "execution_count": 6,
   "metadata": {},
   "outputs": [
    {
     "name": "stdout",
     "output_type": "stream",
     "text": [
      "Introduce the first product you want to order: t-shirt\n",
      "Introduce the second product you want to order: mug\n",
      "Introduce the third product you want to order: book\n"
     ]
    }
   ],
   "source": [
    "# Ask the user to order three products\n",
    "product_one = input(\"Introduce the first product you want to order: \")\n",
    "product_two = input(\"Introduce the second product you want to order: \")\n",
    "product_three = input(\"Introduce the third product you want to order: \")"
   ]
  },
  {
   "cell_type": "code",
   "execution_count": 7,
   "metadata": {},
   "outputs": [],
   "source": [
    "# Add each product to the set\n",
    "customer_orders.add(product_one)\n",
    "customer_orders.add(product_two)\n",
    "customer_orders.add(product_three)"
   ]
  },
  {
   "cell_type": "code",
   "execution_count": 8,
   "metadata": {},
   "outputs": [
    {
     "name": "stdout",
     "output_type": "stream",
     "text": [
      "{'t-shirt', 'book', 'mug'}\n"
     ]
    }
   ],
   "source": [
    "# Print the products in the set\n",
    "print(customer_orders)"
   ]
  },
  {
   "cell_type": "code",
   "execution_count": 9,
   "metadata": {},
   "outputs": [
    {
     "name": "stdout",
     "output_type": "stream",
     "text": [
      "The total number of products ordered is 3\n"
     ]
    }
   ],
   "source": [
    "# Check total number of products ordered\n",
    "total_products_ordered = len(customer_orders)\n",
    "print (\"The total number of products ordered is\", total_products_ordered)"
   ]
  },
  {
   "cell_type": "code",
   "execution_count": 10,
   "metadata": {},
   "outputs": [
    {
     "name": "stdout",
     "output_type": "stream",
     "text": [
      "5\n"
     ]
    }
   ],
   "source": [
    "# Calculate number of total available products\n",
    "available_products = len(products)\n",
    "print (available_products)"
   ]
  },
  {
   "cell_type": "code",
   "execution_count": 11,
   "metadata": {},
   "outputs": [
    {
     "name": "stdout",
     "output_type": "stream",
     "text": [
      "The percentage of products ordered is 60.0 %\n"
     ]
    }
   ],
   "source": [
    "# Check percentage of products ordered compared to the total available products\n",
    "percentage_products_ordered = 3*100/5\n",
    "print(\"The percentage of products ordered is\", percentage_products_ordered, \"%\")"
   ]
  },
  {
   "cell_type": "code",
   "execution_count": 12,
   "metadata": {},
   "outputs": [],
   "source": [
    "# Store the results in a tuple\n",
    "order_status = (total_products_ordered, percentage_products_ordered)"
   ]
  },
  {
   "cell_type": "code",
   "execution_count": 13,
   "metadata": {},
   "outputs": [
    {
     "name": "stdout",
     "output_type": "stream",
     "text": [
      "Order Statistics: \n",
      "Total Products Ordered: 3\n",
      "Percentage of Products Ordered: 60.0%\n"
     ]
    }
   ],
   "source": [
    "# Print the order statistics\n",
    "print (\"Order Statistics: \")\n",
    "print (f\"Total Products Ordered: {order_status[0]}\")\n",
    "print (f\"Percentage of Products Ordered: {order_status[1]}%\")"
   ]
  },
  {
   "cell_type": "code",
   "execution_count": 14,
   "metadata": {},
   "outputs": [],
   "source": [
    "# Update the inventory\n",
    "inventory['t-shirt'] = number_of_tshirts - 1\n",
    "inventory['mug'] = number_of_mugs - 1\n",
    "inventory['book'] = number_of_books - 1\n",
    "inventory['hat'] = number_of_hats\n",
    "inventory['keychain'] = number_of_keychains"
   ]
  },
  {
   "cell_type": "code",
   "execution_count": 15,
   "metadata": {},
   "outputs": [
    {
     "name": "stdout",
     "output_type": "stream",
     "text": [
      "{'t-shirt': 4, 'mug': 9, 'hat': 8, 'book': 11, 'keychain': 6}\n",
      "dict_keys(['t-shirt', 'mug', 'hat', 'book', 'keychain'])\n",
      "dict_values([4, 9, 8, 11, 6])\n"
     ]
    }
   ],
   "source": [
    "# Print the updated inventory\n",
    "print (inventory)\n",
    "print (inventory.keys())\n",
    "print (inventory.values())"
   ]
  }
 ],
 "metadata": {
  "kernelspec": {
   "display_name": "Python 3 (ipykernel)",
   "language": "python",
   "name": "python3"
  },
  "language_info": {
   "codemirror_mode": {
    "name": "ipython",
    "version": 3
   },
   "file_extension": ".py",
   "mimetype": "text/x-python",
   "name": "python",
   "nbconvert_exporter": "python",
   "pygments_lexer": "ipython3",
   "version": "3.11.5"
  }
 },
 "nbformat": 4,
 "nbformat_minor": 4
}
